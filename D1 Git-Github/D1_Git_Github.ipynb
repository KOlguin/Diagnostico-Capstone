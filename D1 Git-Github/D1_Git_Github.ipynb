{
  "nbformat": 4,
  "nbformat_minor": 0,
  "metadata": {
    "colab": {
      "name": "D1 Git/Github.ipynb",
      "provenance": []
    },
    "kernelspec": {
      "name": "python3",
      "display_name": "Python 3"
    },
    "language_info": {
      "name": "python"
    }
  },
  "cells": [
    {
      "cell_type": "code",
      "source": [
        "import json"
      ],
      "metadata": {
        "id": "LqfMqiycn8rr"
      },
      "execution_count": 1,
      "outputs": []
    },
    {
      "cell_type": "code",
      "source": [
        "def TopRetweeted(info):\n",
        "  # print(info[100]['retweetCount'])\n",
        "  retweet = {}\n",
        "  for i in range(0, len(info)):\n",
        "    tweet = info[i]['content']\n",
        "    # print(date[0])\n",
        "    if tweet not in retweet:\n",
        "      retweet[tweet] = info[i]['retweetCount']\n",
        "    else:\n",
        "      retweet[tweet] += 1\n",
        "  \n",
        "  # https://stackoverflow.com/questions/1679384/converting-dictionary-to-list\n",
        "  retweetlist = []\n",
        "  for key, value in retweet.items():\n",
        "    temp = [key,value]\n",
        "    retweetlist.append(temp)\n",
        "  \n",
        "  # https://www.freecodecamp.org/news/the-python-sort-list-array-method-ascending-and-descending-explained-with-examples/\n",
        "  sorter = lambda x: (x[1], x[0])\n",
        "  sorted_l = sorted(retweetlist, key=sorter, reverse=True)\n",
        "\n",
        "  print('Contenido Tweet - Cantidad de Retweets')\n",
        "  for i in range(0, 10):\n",
        "    print(sorted_l[i])"
      ],
      "metadata": {
        "id": "i0pRxupI2rCz"
      },
      "execution_count": 88,
      "outputs": []
    },
    {
      "cell_type": "code",
      "source": [
        "def TopUsers(info):\n",
        "\n",
        "  # Se utilizará el \"statusesCount\" para la cantida de Tweets emitidos\n",
        "  user = {}\n",
        "  for i in range(0, len(info)):\n",
        "    name = info[i]['user']['username']\n",
        "    # print(date[0])\n",
        "    if name not in user:\n",
        "      user[name] = info[i]['user']['statusesCount']\n",
        "    else:\n",
        "      user[name] = info[i]['user']['statusesCount']\n",
        "  \n",
        "  # https://stackoverflow.com/questions/1679384/converting-dictionary-to-list\n",
        "  userslist = []\n",
        "  for key, value in user.items():\n",
        "    temp = [key,value]\n",
        "    userslist.append(temp)\n",
        "  \n",
        "  # https://www.freecodecamp.org/news/the-python-sort-list-array-method-ascending-and-descending-explained-with-examples/\n",
        "  sorter = lambda x: (x[1], x[0])\n",
        "  sorted_l = sorted(userslist, key=sorter, reverse=True)\n",
        "\n",
        "  print('Usuario - Cantidad de Tweets')\n",
        "  for i in range(0, 10):\n",
        "    print(sorted_l[i])\n"
      ],
      "metadata": {
        "id": "f8d--A2SPCR_"
      },
      "execution_count": 94,
      "outputs": []
    },
    {
      "cell_type": "code",
      "source": [
        "def TopDays(info):\n",
        "  days = {}\n",
        "  for i in range(0, len(info)):\n",
        "    date = info[i]['date'].split('T')\n",
        "    # print(date[0])\n",
        "    if date[0] not in days:\n",
        "      days[date[0]] = 1 \n",
        "    else:\n",
        "      days[date[0]] += 1\n",
        "  \n",
        "  # https://stackoverflow.com/questions/1679384/converting-dictionary-to-list\n",
        "  dayslist = []\n",
        "  for key, value in days.items():\n",
        "    temp = [key,value]\n",
        "    dayslist.append(temp)\n",
        "  \n",
        "  # https://www.freecodecamp.org/news/the-python-sort-list-array-method-ascending-and-descending-explained-with-examples/\n",
        "  sorter = lambda x: (x[1], x[0])\n",
        "  sorted_l = sorted(dayslist, key=sorter, reverse=True)\n",
        "\n",
        "  print('Dia - Cantidad de Tweets')\n",
        "  for i in range(0, 10):\n",
        "    print(sorted_l[i])"
      ],
      "metadata": {
        "id": "znDs9grSPK5I"
      },
      "execution_count": 76,
      "outputs": []
    },
    {
      "cell_type": "code",
      "source": [
        "def TopHash(info):\n",
        "  print(info[4]['content'].split(' '))"
      ],
      "metadata": {
        "id": "Xx9wARz9U6_U"
      },
      "execution_count": 80,
      "outputs": []
    },
    {
      "cell_type": "code",
      "source": [
        "import ast\n",
        "def main():\n",
        "  f = open('farmers-protest-tweets-2021-03-5.json', 'r')\n",
        "  data = []\n",
        "  numb = 0\n",
        "  for line in f.readlines():\n",
        "    try:\n",
        "      data.append(json.loads(line))\n",
        "    except:\n",
        "      continue\n",
        "\n",
        "  f.close()\n",
        "  \n",
        "  print('Opciones')\n",
        "  print('0 - Salir')\n",
        "  print('1 - Top 10 tweets mas retweeted')\n",
        "  print('2 - Top 10 usuarios')\n",
        "  print('3 - Top 10 dias con más tweets')\n",
        "  print('4 - Top 10 Hashtags')\n",
        "  chosen = input('Ingresa la opción: ')\n",
        "  while chosen != '0':\n",
        "    if chosen == '1':\n",
        "      TopRetweeted(data)\n",
        "    elif chosen == '2':\n",
        "      TopUsers(data)\n",
        "    elif chosen == '3':\n",
        "      TopDays(data)\n",
        "    elif chosen == '4':\n",
        "      TopHash(data)\n",
        "    else:\n",
        "      print('Ingrese una opción valida')\n",
        "    chosen = input('Ingresa la opción: ')\n",
        "  print('Ha salido del menu de opciones')"
      ],
      "metadata": {
        "id": "N4P9SBAePXvB"
      },
      "execution_count": 51,
      "outputs": []
    },
    {
      "cell_type": "code",
      "source": [
        "main()"
      ],
      "metadata": {
        "colab": {
          "base_uri": "https://localhost:8080/"
        },
        "id": "2xlpdAQAPd2k",
        "outputId": "09ae93df-03b1-48cc-ef08-a5534f5eedc0"
      },
      "execution_count": 95,
      "outputs": [
        {
          "output_type": "stream",
          "name": "stdout",
          "text": [
            "Opciones\n",
            "0 - Salir\n",
            "1 - Top 10 tweets mas retweeted\n",
            "2 - Top 10 usuarios\n",
            "3 - Top 10 dias con más tweets\n",
            "4 - Top 10 Hashtags\n",
            "Ingresa la opción: 2\n",
            "Usuario - Cantidad de Tweets\n",
            "['threadreaderapp', 1762327]\n",
            "['CyberAnonymous', 1435641]\n",
            "['unbiased100', 1027493]\n",
            "['animesh1977', 974774]\n",
            "['CNBCTV18Live', 944142]\n",
            "['htTweets', 867948]\n",
            "['CNNnews18', 863748]\n",
            "['IndiaToday', 851130]\n",
            "['ndtv', 798303]\n",
            "['_dharam_vir', 789981]\n",
            "Ingresa la opción: 3\n",
            "Dia - Cantidad de Tweets\n",
            "['2021-02-05', 33332]\n",
            "['2021-02-06', 22420]\n",
            "['2021-02-07', 11325]\n",
            "['2021-02-09', 9320]\n",
            "['2021-02-08', 8920]\n",
            "['2021-02-04', 8832]\n",
            "['2021-02-10', 7973]\n",
            "['2021-02-11', 5698]\n",
            "['2021-02-17', 5015]\n",
            "['2021-02-12', 4961]\n",
            "Ingresa la opción: 1\n",
            "Contenido Tweet - Cantidad de Retweets\n",
            "['There has been much social media coverage around the #FarmersProtest in #India. Very useful guide to the legislation and the impact on farmers. 1/2 https://t.co/3CsdgBebdZ', 20132]\n",
            "['To all of my influencer/celeb friends- read up on this   #FarmersProtest 👀', 15677]\n",
            "['Standing in solidarity with the #FarmersProtest in India. Read about who they are and why they’re protesting below. https://t.co/yWtEkqQynF', 15162]\n",
            "['\"Why aren’t we talking about this?!\" asked @rihanna, referring to India\\'s #FarmersProtest  \\n\\nSo on my @MehdiHasanShow show tonight... I did. \\n\\nHere\\'s my mini-rant on Modi, India\\'s descent into authoritarianism, and why it should matter to us in America:\\nhttps://t.co/JB7mGDmWO0', 11148]\n",
            "['I still #StandWithFarmers and support their peaceful protest.\\nNo amount of hate, threats or violations of human rights will ever change that. #FarmersProtest https://t.co/5VwwBSDXu0', 10462]\n",
            "[\"The Indian government is going after @rihanna, @GretaThunberg and @meenaharris for supporting the #FarmersProtest because they’re scared the world will find out what's happening. Keep telling the truth. Keep standing in solidarity.\\n https://t.co/rHtVU4eJA7\", 6832]\n",
            "['I am calling on leaders across the world to demand the immediate release of Nodeep Kaur – a worker and Dalit rights activist jailed and brutalized for organizing in solidarity with the #Farmersprotest. #FreeNodeepKaur https://t.co/iKWQUOjWd0', 6700]\n",
            "[\"There's a #FarmersProtest happening in Germany.\\n\\nBut the German Govt didn’t block their path with barbed wires, dig highways or label them Anti-National. And neither did the Govt declare it an ‘internal matter’ where others can’t comment. I guess that’s how democracies work. https://t.co/pZtigTgWT8\", 6592]\n",
            "['this week @rihanna , @GretaThunberg &amp; @meenaharris  brought awareness to india’s #farmersprotest and look at the response. misogyny and rightwing regimes go hand in hand. \\n\\ni implore the world to keep their eyes open and bring international attention to modi’s harmful farm laws https://t.co/Z86C957tZQ', 5787]\n",
            "['Protesting farmers near Kundli border make way for an ambulance #FarmersProtest https://t.co/tJWIQQ8pRQ', 4698]\n",
            "Ingresa la opción: 0\n",
            "Ha salido del menu de opciones\n"
          ]
        }
      ]
    },
    {
      "cell_type": "code",
      "source": [
        ""
      ],
      "metadata": {
        "id": "7JATIAfLRt3H"
      },
      "execution_count": null,
      "outputs": []
    }
  ]
}