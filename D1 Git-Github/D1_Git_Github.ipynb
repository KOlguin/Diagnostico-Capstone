{
  "nbformat": 4,
  "nbformat_minor": 0,
  "metadata": {
    "colab": {
      "name": "D1 Git/Github.ipynb",
      "provenance": []
    },
    "kernelspec": {
      "name": "python3",
      "display_name": "Python 3"
    },
    "language_info": {
      "name": "python"
    }
  },
  "cells": [
    {
      "cell_type": "code",
      "source": [
        "import json"
      ],
      "metadata": {
        "id": "LqfMqiycn8rr"
      },
      "execution_count": 1,
      "outputs": []
    },
    {
      "cell_type": "code",
      "source": [
        "def TopRetweeted(info):\n",
        "  print(info[200])"
      ],
      "metadata": {
        "id": "i0pRxupI2rCz"
      },
      "execution_count": 56,
      "outputs": []
    },
    {
      "cell_type": "code",
      "source": [
        "def TopUsers(info):\n",
        "  print(info[2])"
      ],
      "metadata": {
        "id": "f8d--A2SPCR_"
      },
      "execution_count": 44,
      "outputs": []
    },
    {
      "cell_type": "code",
      "source": [
        "def TopDays(info):\n",
        "  days = {}\n",
        "  for i in range(0, len(info)):\n",
        "    date = info[i]['date'].split('T')\n",
        "    # print(date[0])\n",
        "    if date[0] not in days:\n",
        "      days[date[0]] = 1 \n",
        "    else:\n",
        "      days[date[0]] += 1\n",
        "  \n",
        "  # https://stackoverflow.com/questions/1679384/converting-dictionary-to-list\n",
        "  dayslist = []\n",
        "  for key, value in days.items():\n",
        "    temp = [key,value]\n",
        "    dayslist.append(temp)\n",
        "  \n",
        "  # https://www.freecodecamp.org/news/the-python-sort-list-array-method-ascending-and-descending-explained-with-examples/\n",
        "  sorter = lambda x: (x[1], x[0])\n",
        "  sorted_l = sorted(dayslist, key=sorter, reverse=True)\n",
        "\n",
        "  print('Dia - Cantidad de Tweets')\n",
        "  for i in range(0, 10):\n",
        "    print(sorted_l[i])"
      ],
      "metadata": {
        "id": "znDs9grSPK5I"
      },
      "execution_count": 76,
      "outputs": []
    },
    {
      "cell_type": "code",
      "source": [
        "def TopHash(info):\n",
        "  print(info[4])"
      ],
      "metadata": {
        "id": "Xx9wARz9U6_U"
      },
      "execution_count": 46,
      "outputs": []
    },
    {
      "cell_type": "code",
      "source": [
        "import ast\n",
        "def main():\n",
        "  f = open('farmers-protest-tweets-2021-03-5.json', 'r')\n",
        "  data = []\n",
        "  numb = 0\n",
        "  for line in f.readlines():\n",
        "    try:\n",
        "      data.append(json.loads(line))\n",
        "    except:\n",
        "      continue\n",
        "\n",
        "  f.close()\n",
        "  \n",
        "  print('Opciones')\n",
        "  print('0 - Salir')\n",
        "  print('1 - Top 10 tweets mas retweeted')\n",
        "  print('2 - Top 10 usuarios')\n",
        "  print('3 - Top 10 dias con más tweets')\n",
        "  print('4 - Top 10 Hashtags')\n",
        "  chosen = input('Ingresa la opción: ')\n",
        "  while chosen != '0':\n",
        "    if chosen == '1':\n",
        "      TopRetweeted(data)\n",
        "    elif chosen == '2':\n",
        "      TopUsers(data)\n",
        "    elif chosen == '3':\n",
        "      TopDays(data)\n",
        "    elif chosen == '4':\n",
        "      TopHash(data)\n",
        "    else:\n",
        "      print('Ingrese una opción valida')\n",
        "    chosen = input('Ingresa la opción: ')\n",
        "  print('Ha salido del menu de opciones')"
      ],
      "metadata": {
        "id": "N4P9SBAePXvB"
      },
      "execution_count": 51,
      "outputs": []
    },
    {
      "cell_type": "code",
      "source": [
        "main()"
      ],
      "metadata": {
        "colab": {
          "base_uri": "https://localhost:8080/"
        },
        "id": "2xlpdAQAPd2k",
        "outputId": "6f1d7340-0c2c-4ad8-8709-bb4344513eb9"
      },
      "execution_count": 78,
      "outputs": [
        {
          "output_type": "stream",
          "name": "stdout",
          "text": [
            "Opciones\n",
            "0 - Salir\n",
            "1 - Top 10 tweets mas retweeted\n",
            "2 - Top 10 usuarios\n",
            "3 - Top 10 dias con más tweets\n",
            "4 - Top 10 Hashtags\n",
            "Ingresa la opción: 3\n",
            "Dia - Cantidad de Tweets\n",
            "['2021-02-10', 7973]\n",
            "['2021-02-11', 5698]\n",
            "['2021-02-17', 5015]\n",
            "['2021-02-12', 4961]\n",
            "['2021-02-13', 4599]\n",
            "['2021-02-14', 4561]\n",
            "['2021-02-16', 4523]\n",
            "['2021-02-15', 4413]\n",
            "['2021-02-20', 4003]\n",
            "['2021-03-26', 3958]\n",
            "Ingresa la opción: 0\n",
            "Ha salido del menu de opciones\n"
          ]
        }
      ]
    },
    {
      "cell_type": "code",
      "source": [
        ""
      ],
      "metadata": {
        "id": "7JATIAfLRt3H"
      },
      "execution_count": null,
      "outputs": []
    }
  ]
}